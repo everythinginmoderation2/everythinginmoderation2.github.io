{
  "nbformat": 4,
  "nbformat_minor": 0,
  "metadata": {
    "kernelspec": {
      "display_name": "Python 3",
      "language": "python",
      "name": "python3"
    },
    "language_info": {
      "codemirror_mode": {
        "name": "ipython",
        "version": 3
      },
      "file_extension": ".py",
      "mimetype": "text/x-python",
      "name": "python",
      "nbconvert_exporter": "python",
      "pygments_lexer": "ipython3",
      "version": "3.6.8"
    },
    "colab": {
      "name": "Copy of Fulltime MLE 2019-Prework.ipynb",
      "provenance": [],
      "collapsed_sections": [],
      "include_colab_link": true
    }
  },
  "cells": [
    {
      "cell_type": "markdown",
      "metadata": {
        "id": "view-in-github",
        "colab_type": "text"
      },
      "source": [
        "<a href=\"https://colab.research.google.com/github/everythinginmoderation2/everythinginmoderation2.github.io/blob/master/Copy_of_Fulltime_MLE_2019_Prework.ipynb\" target=\"_parent\"><img src=\"https://colab.research.google.com/assets/colab-badge.svg\" alt=\"Open In Colab\"/></a>"
      ]
    },
    {
      "cell_type": "markdown",
      "metadata": {
        "id": "dqgKJOuGAZmw",
        "colab_type": "text"
      },
      "source": [
        "![](https://i.imgur.com/0AUxkXt.png)"
      ]
    },
    {
      "cell_type": "markdown",
      "metadata": {
        "id": "la8vdlwwAZmx",
        "colab_type": "text"
      },
      "source": [
        "# Fulltime MLE Prework\n",
        "\n",
        "Welcome to Coderschool Fulltime Machine Learning Engineer Prework. The primary purpose of this prework is to check whether you suit the best with the class and more than that, provide you a decent warmup. \n",
        "\n",
        "This prework includes:\n",
        "1. Introduction to Jupyter notebook, Google Colaboratory, Markdown language\n",
        "2. Basic Calculus\n",
        "3. Basic Linear Algebra\n",
        "4. Basic Python Programming\n",
        "\n",
        ">Click on **File** - **Save a copy in Drive..**, before you start."
      ]
    },
    {
      "cell_type": "markdown",
      "metadata": {
        "id": "werFfcgeAZmy",
        "colab_type": "text"
      },
      "source": [
        "## 1. Introduction to Jupyter notebook, Google Colaboratory, Markdown\n",
        "\n",
        "### About Jupyter Notebook (.ipynb)\n",
        "![](https://upload.wikimedia.org/wikipedia/commons/3/38/Jupyter_logo.svg)\n",
        "\n",
        "Generally, Jupyter Notebook is a free, open-source web application that helps implement and share documents(or usually referred as `notebooks`) that contains live codes (supports most of the popular programming languages) with returned outputs, texts, mathematical equations, visualizations, etc. Feel free to reference more the [official documentation](https://jupyter-notebook.readthedocs.io/en/latest/notebook.html#notebook-documents).\n",
        "\n",
        "### About Google Colaboratory (Colab)\n",
        "<img src=\"https://colab.research.google.com/img/colab_favicon_256px.png\" alt=\"drawing\" height=\"51\"/>\n",
        "\n",
        "According to the [introductory documentation](https://colab.research.google.com/notebooks/welcome.ipynb#scrollTo=lSrWNr3MuFUS), **Colaboratory** is a free Jupyter notebook environment that requires no setup and runs entirely in the cloud. With Colaboratory, you can write and execute code, save and share your analyses, and access powerful computing resources, all for free from your browser. \n",
        "\n",
        "To learn more about the overview features of Colab (as well as Jupyter notebook), feel free to reference [this notebook](https://colab.research.google.com/notebooks/basic_features_overview.ipynb).\n",
        "\n",
        "### About Markdown\n",
        "<img src=\"https://upload.wikimedia.org/wikipedia/commons/thumb/4/48/Markdown-mark.svg/208px-Markdown-mark.svg.png\" alt=\"drawing\" height=\"51\"/>\n",
        "\n",
        "**Text cells** in Colab or Jupyter notebook use Markdown as a simple markup language to format textual information. Moreover, comes along with Markdown is the support from $\\LaTeX$, which helps to note mathematical symbols and equations in a robust way.\n",
        "\n",
        "Please carefully reference [this notebook](https://colab.research.google.com/notebooks/markdown_guide.ipynb#scrollTo=eYaIiIaJOPqi) to have a quick start and great overview of Markdown and $\\LaTeX$.\n",
        "\n",
        "#### A small gift for you: [Hackmd.io](https://hackmd.io)\n",
        "At Coderschool, we always consider the importance of taking notes. Therefore, we recommend using **hackmd.io** as a platform for taking notes and sharing notes using Markdown language for your works. If you have not used it yet, it is worth giving a try :). Overview features of hackmd is described comprehensively [here](https://hackmd.io/s/features).\n"
      ]
    },
    {
      "cell_type": "markdown",
      "metadata": {
        "id": "LCOL7qsEAZmy",
        "colab_type": "text"
      },
      "source": [
        "## 2. Basic Calculus\n",
        "\n",
        "- Concept of [Derivatives](https://en.wikipedia.org/wiki/Derivative)\n",
        "- Concept of [Gradients](https://www.khanacademy.org/math/multivariable-calculus/multivariable-derivatives/gradient-and-directional-derivatives/v/gradient)\n",
        "- [Partial Derivatives](https://en.wikipedia.org/wiki/Partial_derivative) (which closely relates to Gradients)\n",
        "- [Chain rule](https://en.wikipedia.org/wiki/Chain_rule)\n",
        "\n",
        "For a comprehensive overview, you can reference [this document](https://ml-cheatsheet.readthedocs.io/en/latest/calculus.html#calculus) up to **Gradient** part."
      ]
    },
    {
      "cell_type": "markdown",
      "metadata": {
        "id": "PFUJhU_kAZm2",
        "colab_type": "text"
      },
      "source": [
        "### 2.1 Derivatives\n",
        "Find derivatives of these equations and write your answer in Markdown in the below cell. \n",
        "\n",
        "**Notice:** Display your solution as detailed as possible."
      ]
    },
    {
      "cell_type": "markdown",
      "metadata": {
        "id": "eo19_TLZAZm4",
        "colab_type": "text"
      },
      "source": [
        "Problem 1: $$f(x) = 6x^3 - 9x + 4$$"
      ]
    },
    {
      "cell_type": "markdown",
      "metadata": {
        "id": "c5EaW1A0AZm5",
        "colab_type": "text"
      },
      "source": [
        "Answer:$$18x^2 − 9$$"
      ]
    },
    {
      "cell_type": "markdown",
      "metadata": {
        "id": "RuP6aqr3AZm8",
        "colab_type": "text"
      },
      "source": [
        "Problem 2: $$h(x) = \\frac{4x^3 - 7x + 8}{x}$$"
      ]
    },
    {
      "cell_type": "markdown",
      "metadata": {
        "id": "H4-02ZsBAZm9",
        "colab_type": "text"
      },
      "source": [
        "Answer:$$\\frac{(8x^3 − 8)}{x^2}$$"
      ]
    },
    {
      "cell_type": "markdown",
      "metadata": {
        "id": "bPkFv_dfAZm-",
        "colab_type": "text"
      },
      "source": [
        "### 2.2 Partial Derivatives\n",
        "\n",
        "Find the partial derivatives *(Ex: $f'_x$ and $f'_y$ of $f(x,y)$)* of these equations and write your answer in Markdown in the below cell.\n",
        "\n",
        "**Notice:** Display your solution as detailed as possible."
      ]
    },
    {
      "cell_type": "markdown",
      "metadata": {
        "id": "RU-gPJUXAZm_",
        "colab_type": "text"
      },
      "source": [
        "Problem 1: $$f(x,y) = x^4 + 6\\sqrt{y} - 10$$"
      ]
    },
    {
      "cell_type": "markdown",
      "metadata": {
        "id": "zO6mjLxtAZnB",
        "colab_type": "text"
      },
      "source": [
        "Answer: $$f′x = 4x^3$$\n",
        "\n",
        "$$f′y = \\frac{3}{\\sqrt{y}}$$"
      ]
    },
    {
      "cell_type": "markdown",
      "metadata": {
        "id": "6yQYdVE7AZnC",
        "colab_type": "text"
      },
      "source": [
        "Problem 2: $$g(u,v) = \\frac{9u}{u^2+5v}$$"
      ]
    },
    {
      "cell_type": "markdown",
      "metadata": {
        "id": "qLlqAUcDAZnD",
        "colab_type": "text"
      },
      "source": [
        "Answer: $$f′u = \\frac{9(u^2 - 5v)}{(u^2 + 5v)^2}$$\n",
        "\n",
        "$$f′v = \\frac{45u}{(u^2 +5v)^2}$$"
      ]
    },
    {
      "cell_type": "markdown",
      "metadata": {
        "id": "r2ewKo7uAZnJ",
        "colab_type": "text"
      },
      "source": [
        "### 2.3 Chain rule\n",
        "\n",
        "Find the derivatives of the following functions using **chain rule**.\n",
        "\n",
        "**Example**: Differentiate $$f(x)=(x^2+1)^7$$.\n",
        "\n",
        "**Solution**: Let $y=u^7$ and $u=x^2+1$.\n",
        "\n",
        "Then, by chain rule: $$\\frac{dy}{dx} = \\frac{dy}{du}.\\frac{du}{dx} = 7u^6 . 2x = 7(x^2+1)^6 . 2x$$\n",
        "\n",
        "**Notice:** Display your solution as detailed as possible."
      ]
    },
    {
      "cell_type": "markdown",
      "metadata": {
        "id": "ea8SpqhxAZnK",
        "colab_type": "text"
      },
      "source": [
        "Problem 1: $$g(t)=(4t^2−3t+2)^{−2}$$"
      ]
    },
    {
      "cell_type": "markdown",
      "metadata": {
        "id": "jvM09ygxAZnL",
        "colab_type": "text"
      },
      "source": [
        "Answer: $$g'(t) = -\\frac{2(8t - 3)}{(4t^2 - 3t + 2)^3}$$"
      ]
    },
    {
      "cell_type": "markdown",
      "metadata": {
        "id": "S5Q_2-47AZnO",
        "colab_type": "text"
      },
      "source": [
        "Problem 3: $$h(x) = e^{1-6x}$$"
      ]
    },
    {
      "cell_type": "markdown",
      "metadata": {
        "id": "tblyum08AZnP",
        "colab_type": "text"
      },
      "source": [
        "Answer: $$h'(x) = −6e^{(1−6x)}$$"
      ]
    },
    {
      "cell_type": "markdown",
      "metadata": {
        "id": "Mh4fMQIjAZnR",
        "colab_type": "text"
      },
      "source": [
        "\n",
        "## 3. Basic Linear Algebra\n",
        "For a quick overview of basic linear algebra, you can freely reference this [document](https://ml-cheatsheet.readthedocs.io/en/latest/linear_algebra.html#linear-algebra). For a more comprehensive review/learning, you can reference [KhanAcademy-Linear Algebra](https://www.khanacademy.org/math/linear-algebra), but notice that this may take more extra time.\n",
        "\n",
        "- Matrix dimensions\n",
        "- Matrix transpose\n",
        "- Matrix addition/subtraction\n",
        "- Matrix multiplcation"
      ]
    },
    {
      "cell_type": "markdown",
      "metadata": {
        "id": "UvvENmKoAZnR",
        "colab_type": "text"
      },
      "source": [
        "### 3.1 Matrix dimensions"
      ]
    },
    {
      "cell_type": "markdown",
      "metadata": {
        "id": "Z2qG-ClfAZnS",
        "colab_type": "text"
      },
      "source": [
        "Given the matrix: $$\n",
        "A = \\begin{bmatrix} \n",
        "2 & 5 & -5 \\\\\n",
        "2 & -2 & 3\n",
        "\\end{bmatrix}\n",
        "$$"
      ]
    },
    {
      "cell_type": "markdown",
      "metadata": {
        "id": "15sRFVa7AZnT",
        "colab_type": "text"
      },
      "source": [
        "* $A$ has the shape (2, 3), 2 rows, 3 columns\n",
        "* The second row of A is $\\begin{bmatrix} 2 & -2 & 3 \\end{bmatrix}$\n",
        "* The first column of $A$ is $\\begin{bmatrix} 2 \\\\ 2 \\end{bmatrix}$ \n",
        "* The size of $A$ is 6 ( $2\\times3$ elements)"
      ]
    },
    {
      "cell_type": "markdown",
      "metadata": {
        "id": "y_qc1eexAZnf",
        "colab_type": "text"
      },
      "source": [
        "### 3.2 Matrix transpose, addition, ..."
      ]
    },
    {
      "cell_type": "markdown",
      "metadata": {
        "id": "rEQxH1BBAZng",
        "colab_type": "text"
      },
      "source": [
        "Given the matrices:\n",
        "$$\n",
        "A = \\begin{bmatrix} \n",
        "1 & 3 \\\\\n",
        "2 & -2 \\\\\n",
        "3 & 0 \\\\\n",
        "-1 & 1 \\\\\n",
        "\\end{bmatrix}, \n",
        "B = \\begin{bmatrix} \n",
        "1 & 0 & 2 & 0 \\\\\n",
        "2 & -1 & 3 & 1\n",
        "\\end{bmatrix}\n",
        "$$\n",
        "Find, if possible:"
      ]
    },
    {
      "cell_type": "markdown",
      "metadata": {
        "id": "DrXR6tG-AZnh",
        "colab_type": "text"
      },
      "source": [
        "Problem 1: $A^T$"
      ]
    },
    {
      "cell_type": "markdown",
      "metadata": {
        "id": "82-v_3laAZni",
        "colab_type": "text"
      },
      "source": [
        "Answer: \n",
        "        \\begin{bmatrix} \n",
        "1 & 2 & 3 & -1 \\\\\n",
        "3 & -2 & 0 & 1\n",
        "\\end{bmatrix}"
      ]
    },
    {
      "cell_type": "markdown",
      "metadata": {
        "id": "qc_jI8-SAZnl",
        "colab_type": "text"
      },
      "source": [
        "Problem 2: $A+B$"
      ]
    },
    {
      "cell_type": "markdown",
      "metadata": {
        "id": "tPKieKV_AZnm",
        "colab_type": "text"
      },
      "source": [
        "Answer: Not possible without transposition"
      ]
    },
    {
      "cell_type": "markdown",
      "metadata": {
        "id": "F5jW7bpqAZnn",
        "colab_type": "text"
      },
      "source": [
        "Problem 3: $A^T+B$"
      ]
    },
    {
      "cell_type": "markdown",
      "metadata": {
        "id": "PisFMemTAZno",
        "colab_type": "text"
      },
      "source": [
        "Answer: \\begin{bmatrix} \n",
        "2 & 2 & 5 & -1 \\\\\n",
        "5 & -3 & 3 & 2\n",
        "\\end{bmatrix}"
      ]
    },
    {
      "cell_type": "markdown",
      "metadata": {
        "id": "304clcYaAZnp",
        "colab_type": "text"
      },
      "source": [
        "### 3.3 Matrix multiplication"
      ]
    },
    {
      "cell_type": "markdown",
      "metadata": {
        "id": "7wR0-JeRAZnr",
        "colab_type": "text"
      },
      "source": [
        "Given the matrices:\n",
        "$$\n",
        "A = \\begin{bmatrix} \n",
        "1 & 3 \\\\\n",
        "0 & -1 \\\\\n",
        "-1 & 2 \\\\\n",
        "3 & 0 \\\\\n",
        "\\end{bmatrix}, \n",
        "B = \\begin{bmatrix} \n",
        "1 & 1 \\\\\n",
        "-2 & 3 \\\\\n",
        "2 & -1 \\\\\n",
        "0 & 1 \\\\\n",
        "\\end{bmatrix},\n",
        "C = \\begin{bmatrix} \n",
        "2 & 0 & 1\\\\\n",
        "3 & 1 & 0\\\\\n",
        "\\end{bmatrix}\n",
        "$$\n",
        "Find, if possible:"
      ]
    },
    {
      "cell_type": "markdown",
      "metadata": {
        "id": "FOXugn55AZnt",
        "colab_type": "text"
      },
      "source": [
        "Problem 1: $AB$"
      ]
    },
    {
      "cell_type": "markdown",
      "metadata": {
        "id": "NxQl6veYAZnu",
        "colab_type": "text"
      },
      "source": [
        "Answer: Not possible without transposition of B"
      ]
    },
    {
      "cell_type": "markdown",
      "metadata": {
        "id": "nHZ9W6eIAZnv",
        "colab_type": "text"
      },
      "source": [
        "Problem 2: $AC$"
      ]
    },
    {
      "cell_type": "markdown",
      "metadata": {
        "id": "5cM4VGBQAZnw",
        "colab_type": "text"
      },
      "source": [
        "Answer: \\begin{bmatrix} \n",
        "11 & 3 & 1\\\\\n",
        "-3 & -1 & 0\\\\\n",
        "4 & 2 & -1\\\\\n",
        "6 & 0 & 3\\\\\n",
        "\\end{bmatrix}"
      ]
    },
    {
      "cell_type": "markdown",
      "metadata": {
        "id": "dKryOgMCAZnx",
        "colab_type": "text"
      },
      "source": [
        "## 4. Basic Python Programming\n",
        "\n",
        "Python is the programming language we use in this course to implement Machine Learning and Deep Learning algorithms. We have one week to walk through the basics of Python, but before anything else, preparation is the key to success.\n",
        "\n",
        "Let's get started with your first program, [Python Hello World](https://www.w3schools.com/python/python_getstarted.asp)"
      ]
    },
    {
      "cell_type": "markdown",
      "metadata": {
        "id": "3vCZsl_gAZny",
        "colab_type": "text"
      },
      "source": [
        "### Exercise 1\n",
        "\n",
        "Given a two-digit integer, swap its digits and print the result.\n",
        "\n",
        "Hint: All you need is in this document, [Python Operators](https://www.w3schools.com/python/python_operators.asp)\n",
        "\n",
        "\n",
        "**Example**:\n",
        "\n",
        "Given `n = 79`\n",
        "\n",
        "Output: 97"
      ]
    },
    {
      "cell_type": "code",
      "metadata": {
        "id": "umJknBK1AZn0",
        "colab_type": "code",
        "colab": {
          "base_uri": "https://localhost:8080/",
          "height": 34
        },
        "outputId": "1ebdf362-0ce9-486d-b690-1e433be84c3e"
      },
      "source": [
        "n = 56; # You can change the input value\n",
        "\n",
        "# Suggestion: we can determine the first digit by n // 10\n",
        "# and the second digit by n % 10\n",
        "\n",
        "first_digit = n//10;\n",
        "second_digit = n%10;\n",
        "swapped_number = (second_digit*10)+first_digit;\n",
        "print (swapped_number);"
      ],
      "execution_count": 1,
      "outputs": [
        {
          "output_type": "stream",
          "text": [
            "65\n"
          ],
          "name": "stdout"
        }
      ]
    },
    {
      "cell_type": "markdown",
      "metadata": {
        "id": "9ccHJdG-AZn5",
        "colab_type": "text"
      },
      "source": [
        "### Exercise 2\n",
        "\n",
        "Given a month - an integer from 1 to 12, print the number of days in it in the year 2017.\n",
        "\n",
        "*Hint: There are many solutions for this exercise, just keep it simple*"
      ]
    },
    {
      "cell_type": "code",
      "metadata": {
        "id": "2jySQpMzAZn6",
        "colab_type": "code",
        "colab": {
          "base_uri": "https://localhost:8080/",
          "height": 34
        },
        "outputId": "6aa8699d-9f25-4648-bb6d-054a6d5dfa82"
      },
      "source": [
        "#any year and month can be entered to obtain desired result\n",
        "#prints the 1st weekday of that month(2017) and the num of days in that month(2)\n",
        "from calendar import monthrange\n",
        "monthrange(2017, 2)"
      ],
      "execution_count": 2,
      "outputs": [
        {
          "output_type": "execute_result",
          "data": {
            "text/plain": [
              "(2, 28)"
            ]
          },
          "metadata": {
            "tags": []
          },
          "execution_count": 2
        }
      ]
    },
    {
      "cell_type": "markdown",
      "metadata": {
        "id": "ska7qXqXAZn_",
        "colab_type": "text"
      },
      "source": [
        "### Exercise 3\n",
        "\n",
        "Write a Python program that find the Greatest Common Divisor of 2 numbers.\n",
        "\n",
        "**Example:**\n",
        "\n",
        "Given `a=12`, `b=16`\n",
        "\n",
        "Output: 4\n",
        "\n"
      ]
    },
    {
      "cell_type": "code",
      "metadata": {
        "id": "vdmlzZJvAZn_",
        "colab_type": "code",
        "colab": {
          "base_uri": "https://localhost:8080/",
          "height": 34
        },
        "outputId": "c374a29f-e849-4ebf-8122-563243984f87"
      },
      "source": [
        "a = 12\n",
        "b = 16\n",
        "from math import gcd\n",
        "gcd(a,b)\n"
      ],
      "execution_count": 3,
      "outputs": [
        {
          "output_type": "execute_result",
          "data": {
            "text/plain": [
              "4"
            ]
          },
          "metadata": {
            "tags": []
          },
          "execution_count": 3
        }
      ]
    },
    {
      "cell_type": "markdown",
      "metadata": {
        "id": "F0Hhe6Zjy38o",
        "colab_type": "text"
      },
      "source": [
        "### Great job!"
      ]
    }
  ]
}